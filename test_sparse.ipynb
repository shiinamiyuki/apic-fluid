{
 "cells": [
  {
   "cell_type": "code",
   "execution_count": 36,
   "metadata": {},
   "outputs": [],
   "source": [
    "import numpy as np\n",
    "from scipy.sparse import csr_array, csc_matrix\n",
    "from scipy.sparse.linalg import cg"
   ]
  },
  {
   "cell_type": "code",
   "execution_count": 37,
   "metadata": {},
   "outputs": [
    {
     "data": {
      "text/plain": [
       "(array([1., 2., 3.], dtype=float32), array([5., 0., 9.], dtype=float32))"
      ]
     },
     "execution_count": 37,
     "metadata": {},
     "output_type": "execute_result"
    }
   ],
   "source": [
    "values = np.array([1, 2, 3])\n",
    "col_indices = np.array([0, 1, 2])\n",
    "row_offsets = np.array([0, 2, 2, 3])\n",
    "A = csr_array((values, col_indices, row_offsets), shape=(3,3))\n",
    "\n",
    "v = np.array([1.0, 2.0, 3.0], dtype=np.float32)\n",
    "u = np.array([5.0, 0.0, 9.0], dtype=np.float32)\n",
    "v, u"
   ]
  },
  {
   "cell_type": "code",
   "execution_count": 38,
   "metadata": {},
   "outputs": [
    {
     "data": {
      "text/plain": [
       "array([5, 0, 9])"
      ]
     },
     "execution_count": 38,
     "metadata": {},
     "output_type": "execute_result"
    }
   ],
   "source": [
    "v = np.array([1, 2, 3])\n",
    "A @ v"
   ]
  },
  {
   "cell_type": "code",
   "execution_count": 39,
   "metadata": {},
   "outputs": [
    {
     "name": "stdout",
     "output_type": "stream",
     "text": [
      "[-1.5 -0.5 -1.   2. ] [-7.  -2.5 -0.5  6. ]\n"
     ]
    }
   ],
   "source": [
    "P = np.array([[4, 0, 1, 0],\n",
    "\n",
    "              [0, 5, 0, 0],\n",
    "\n",
    "              [1, 0, 3, 2],\n",
    "\n",
    "              [0, 0, 2, 4]])\n",
    "\n",
    "A = csc_matrix(P)\n",
    "x = np.array([-1.5, -0.5, -1, 2])\n",
    "b = A @ x\n",
    "\n",
    "x2, exit_code = cg(A, b)\n",
    "print(x2, b)"
   ]
  },
  {
   "cell_type": "code",
   "execution_count": 40,
   "metadata": {},
   "outputs": [
    {
     "name": "stdout",
     "output_type": "stream",
     "text": [
      "[[4 0 1 0]\n",
      " [0 5 0 0]\n",
      " [1 0 3 2]\n",
      " [0 0 2 4]]\n",
      "[-1.5 -0.5 -1.   2. ]\n",
      "[-7.  -2.5 -0.5  6. ]\n"
     ]
    }
   ],
   "source": [
    "values = np.array([4, 1, 5, 1, 3, 2, 2, 4])\n",
    "col_indices = np.array([0, 2, 1, 0, 2, 3, 2, 3])\n",
    "row_offsets = np.array([0, 2, 3, 6, 8])\n",
    "A = csr_array((values, col_indices, row_offsets), shape=(4,4))\n",
    "\n",
    "x = np.array([-1.5, -0.5, -1.0, 2.0], dtype=np.float32)\n",
    "b = np.array([-7.0, -2.5, -0.5, 6.0], dtype=np.float32)\n",
    "print(A.toarray())\n",
    "print(x)\n",
    "print(b)\n"
   ]
  },
  {
   "cell_type": "code",
   "execution_count": 43,
   "metadata": {},
   "outputs": [
    {
     "name": "stdout",
     "output_type": "stream",
     "text": [
      "[[1.  0.  0. ]\n",
      " [0.5 1.  0. ]\n",
      " [0.  0.5 1. ]]\n",
      "[[1.   0.5  0.  ]\n",
      " [0.5  1.25 0.5 ]\n",
      " [0.   0.5  1.25]]\n",
      "[[ 1.3125 -0.625   0.25  ]\n",
      " [-0.625   1.25   -0.5   ]\n",
      " [ 0.25   -0.5     1.    ]]\n",
      "5.828427124746193\n",
      "2.20054562216292\n"
     ]
    }
   ],
   "source": [
    "A = np.array([[-2,1,0],\n",
    "\n",
    "              [1,-2,1],\n",
    "\n",
    "              [0,1,-2]])\n",
    "diag = np.diag(A)\n",
    "I = np.eye(3)\n",
    "L = np.tril(A, -1)\n",
    "H = I - L @ np.diag(1/diag)\n",
    "P = H @ H.T\n",
    "print(H)\n",
    "print(P)\n",
    "print(np.linalg.inv(P))\n",
    "print(np.linalg.cond(A))\n",
    "print(np.linalg.cond(P @ A))"
   ]
  }
 ],
 "metadata": {
  "kernelspec": {
   "display_name": "base",
   "language": "python",
   "name": "python3"
  },
  "language_info": {
   "codemirror_mode": {
    "name": "ipython",
    "version": 3
   },
   "file_extension": ".py",
   "mimetype": "text/x-python",
   "name": "python",
   "nbconvert_exporter": "python",
   "pygments_lexer": "ipython3",
   "version": "3.9.13"
  },
  "orig_nbformat": 4,
  "vscode": {
   "interpreter": {
    "hash": "4839b276b239c2f58c0595b7e719deb88b326e702ab5437b20cb9cdf7fc85723"
   }
  }
 },
 "nbformat": 4,
 "nbformat_minor": 2
}
