{
 "cells": [
  {
   "cell_type": "code",
   "execution_count": 19,
   "metadata": {},
   "outputs": [],
   "source": [
    "import numpy as np\n",
    "from scipy.sparse import csr_array, csc_matrix, coo_matrix\n",
    "from scipy.sparse.linalg import cg"
   ]
  },
  {
   "cell_type": "code",
   "execution_count": 20,
   "metadata": {},
   "outputs": [],
   "source": [
    "def build_laplacian_2d(N):\n",
    "    # 2D laplacian on N*N grid\n",
    "    row = []\n",
    "    col = []\n",
    "    data = []\n",
    "    for i in range(N):\n",
    "        for j in range(N):\n",
    "            index = i*N + j\n",
    "            row.append(index)\n",
    "            col.append(index)\n",
    "            data.append(-4)\n",
    "            if i > 0:\n",
    "                row.append(index)\n",
    "                col.append(index-N)\n",
    "                data.append(1)\n",
    "            if i < N-1:\n",
    "                row.append(index)\n",
    "                col.append(index+N)\n",
    "                data.append(1)\n",
    "            if j > 0:\n",
    "                row.append(index)\n",
    "                col.append(index-1)\n",
    "                data.append(1)\n",
    "            if j < N-1:\n",
    "                row.append(index)\n",
    "                col.append(index+1)\n",
    "                data.append(1)\n",
    "    return csr_array((data, (row, col)), shape=(N*N, N*N))"
   ]
  },
  {
   "cell_type": "code",
   "execution_count": 21,
   "metadata": {},
   "outputs": [],
   "source": [
    "A = build_laplacian_2d(3)"
   ]
  },
  {
   "cell_type": "code",
   "execution_count": 22,
   "metadata": {},
   "outputs": [
    {
     "data": {
      "text/plain": [
       "array([[-4,  1,  0,  1,  0,  0,  0,  0,  0],\n",
       "       [ 1, -4,  1,  0,  1,  0,  0,  0,  0],\n",
       "       [ 0,  1, -4,  0,  0,  1,  0,  0,  0],\n",
       "       [ 1,  0,  0, -4,  1,  0,  1,  0,  0],\n",
       "       [ 0,  1,  0,  1, -4,  1,  0,  1,  0],\n",
       "       [ 0,  0,  1,  0,  1, -4,  0,  0,  1],\n",
       "       [ 0,  0,  0,  1,  0,  0, -4,  1,  0],\n",
       "       [ 0,  0,  0,  0,  1,  0,  1, -4,  1],\n",
       "       [ 0,  0,  0,  0,  0,  1,  0,  1, -4]])"
      ]
     },
     "execution_count": 22,
     "metadata": {},
     "output_type": "execute_result"
    }
   ],
   "source": [
    "A.toarray()"
   ]
  },
  {
   "cell_type": "code",
   "execution_count": 23,
   "metadata": {},
   "outputs": [],
   "source": [
    "def build_incomplete_poission(N):\n",
    "    # P^{-1} for incomplete poisson preconditioner\n",
    "    row = []\n",
    "    col = []\n",
    "    data = []\n",
    "    for i in range(N):\n",
    "        for j in range(N):\n",
    "            index = i*N + j\n",
    "            \n",
    "            sum_m = 0\n",
    "            if i > 0:\n",
    "                row.append(index)\n",
    "                col.append(index-N)\n",
    "                data.append(1/4)\n",
    "                sum_m += (1/4)**2\n",
    "            if i < N-1:\n",
    "                row.append(index)\n",
    "                col.append(index+N)\n",
    "                data.append(1/4)\n",
    "                # sum_m += (1/4)**2\n",
    "            if j > 0:\n",
    "                row.append(index)\n",
    "                col.append(index-1)\n",
    "                data.append(1/4)\n",
    "                sum_m += (1/4)**2\n",
    "            if j < N-1:\n",
    "                row.append(index)\n",
    "                col.append(index+1)\n",
    "                data.append(1/4)\n",
    "                # sum_m += (1/4)**2\n",
    "            row.append(index)\n",
    "            col.append(index)\n",
    "            data.append(1 + sum_m)\n",
    "    return csr_array((data, (row, col)), shape=(N*N, N*N))\n",
    "\n",
    "def incomplete_poisson_matrix(A):\n",
    "    A = A.toarray()\n",
    "    I = np.identity(A.shape[0])\n",
    "    L = np.tril(A, -1)\n",
    "    diag = np.diag(A)\n",
    "    H = I - L @ np.diag(1.0 / diag)\n",
    "    return H @ H.T"
   ]
  },
  {
   "cell_type": "code",
   "execution_count": 24,
   "metadata": {},
   "outputs": [],
   "source": [
    "Pinv = build_incomplete_poission(3)"
   ]
  },
  {
   "cell_type": "code",
   "execution_count": 25,
   "metadata": {},
   "outputs": [
    {
     "data": {
      "text/plain": [
       "array([[1.    , 0.25  , 0.    , 0.25  , 0.    , 0.    , 0.    , 0.    ,\n",
       "        0.    ],\n",
       "       [0.25  , 1.0625, 0.25  , 0.    , 0.25  , 0.    , 0.    , 0.    ,\n",
       "        0.    ],\n",
       "       [0.    , 0.25  , 1.0625, 0.    , 0.    , 0.25  , 0.    , 0.    ,\n",
       "        0.    ],\n",
       "       [0.25  , 0.    , 0.    , 1.0625, 0.25  , 0.    , 0.25  , 0.    ,\n",
       "        0.    ],\n",
       "       [0.    , 0.25  , 0.    , 0.25  , 1.125 , 0.25  , 0.    , 0.25  ,\n",
       "        0.    ],\n",
       "       [0.    , 0.    , 0.25  , 0.    , 0.25  , 1.125 , 0.    , 0.    ,\n",
       "        0.25  ],\n",
       "       [0.    , 0.    , 0.    , 0.25  , 0.    , 0.    , 1.0625, 0.25  ,\n",
       "        0.    ],\n",
       "       [0.    , 0.    , 0.    , 0.    , 0.25  , 0.    , 0.25  , 1.125 ,\n",
       "        0.25  ],\n",
       "       [0.    , 0.    , 0.    , 0.    , 0.    , 0.25  , 0.    , 0.25  ,\n",
       "        1.125 ]])"
      ]
     },
     "execution_count": 25,
     "metadata": {},
     "output_type": "execute_result"
    }
   ],
   "source": [
    "Pinv.toarray()"
   ]
  },
  {
   "cell_type": "code",
   "execution_count": 26,
   "metadata": {},
   "outputs": [],
   "source": [
    "P = incomplete_poisson_matrix(A)"
   ]
  },
  {
   "cell_type": "code",
   "execution_count": 27,
   "metadata": {},
   "outputs": [
    {
     "data": {
      "text/plain": [
       "array([[1.    , 0.25  , 0.    , 0.25  , 0.    , 0.    , 0.    , 0.    ,\n",
       "        0.    ],\n",
       "       [0.25  , 1.0625, 0.25  , 0.0625, 0.25  , 0.    , 0.    , 0.    ,\n",
       "        0.    ],\n",
       "       [0.    , 0.25  , 1.0625, 0.    , 0.0625, 0.25  , 0.    , 0.    ,\n",
       "        0.    ],\n",
       "       [0.25  , 0.0625, 0.    , 1.0625, 0.25  , 0.    , 0.25  , 0.    ,\n",
       "        0.    ],\n",
       "       [0.    , 0.25  , 0.0625, 0.25  , 1.125 , 0.25  , 0.0625, 0.25  ,\n",
       "        0.    ],\n",
       "       [0.    , 0.    , 0.25  , 0.    , 0.25  , 1.125 , 0.    , 0.0625,\n",
       "        0.25  ],\n",
       "       [0.    , 0.    , 0.    , 0.25  , 0.0625, 0.    , 1.0625, 0.25  ,\n",
       "        0.    ],\n",
       "       [0.    , 0.    , 0.    , 0.    , 0.25  , 0.0625, 0.25  , 1.125 ,\n",
       "        0.25  ],\n",
       "       [0.    , 0.    , 0.    , 0.    , 0.    , 0.25  , 0.    , 0.25  ,\n",
       "        1.125 ]])"
      ]
     },
     "execution_count": 27,
     "metadata": {},
     "output_type": "execute_result"
    }
   ],
   "source": [
    "P"
   ]
  }
 ],
 "metadata": {
  "kernelspec": {
   "display_name": "base",
   "language": "python",
   "name": "python3"
  },
  "language_info": {
   "codemirror_mode": {
    "name": "ipython",
    "version": 3
   },
   "file_extension": ".py",
   "mimetype": "text/x-python",
   "name": "python",
   "nbconvert_exporter": "python",
   "pygments_lexer": "ipython3",
   "version": "3.9.13"
  },
  "orig_nbformat": 4,
  "vscode": {
   "interpreter": {
    "hash": "4839b276b239c2f58c0595b7e719deb88b326e702ab5437b20cb9cdf7fc85723"
   }
  }
 },
 "nbformat": 4,
 "nbformat_minor": 2
}
